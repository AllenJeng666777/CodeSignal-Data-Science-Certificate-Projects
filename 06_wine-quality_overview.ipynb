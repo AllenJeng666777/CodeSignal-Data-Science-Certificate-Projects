{
 "cells": [
  {
   "cell_type": "markdown",
   "id": "71b466b3",
   "metadata": {},
   "source": [
    "# Hello, brave data explorer! Feeling refreshed after our exciting lesson about the Wine Quality dataset? It's time to flap your wings a bit in the practice zone!\n",
    "\n",
    "How about a challenge that feels like it's out of a sommelier's task book? Imagine you are asked to analyze and describe the Red Wine dataset at a top-tier wine-tasting event. You have to deliver a comprehensive report about a statistical summary and histogram of the wine quality. Do you want to speculate about the wine quality distribution?\n",
    "\n",
    "Sounds tempting, right? Click Run and take the first step towards being a wine-data sommelier!"
   ]
  },
  {
   "cell_type": "code",
   "execution_count": 3,
   "id": "d3f5ff55",
   "metadata": {},
   "outputs": [
    {
     "name": "stdout",
     "output_type": "stream",
     "text": [
      "\n",
      "Unique values in Wine Dataset:\n",
      "fixed acidity            96\n",
      "volatile acidity        143\n",
      "citric acid              80\n",
      "residual sugar           91\n",
      "chlorides               153\n",
      "free sulfur dioxide      60\n",
      "total sulfur dioxide    144\n",
      "density                 436\n",
      "pH                       89\n",
      "sulphates                96\n",
      "alcohol                  65\n",
      "quality                   6\n",
      "dtype: int64\n",
      "\n",
      "Missing values in Wine Dataset:\n",
      "fixed acidity           0\n",
      "volatile acidity        0\n",
      "citric acid             0\n",
      "residual sugar          0\n",
      "chlorides               0\n",
      "free sulfur dioxide     0\n",
      "total sulfur dioxide    0\n",
      "density                 0\n",
      "pH                      0\n",
      "sulphates               0\n",
      "alcohol                 0\n",
      "quality                 0\n",
      "dtype: int64\n"
     ]
    },
    {
     "data": {
      "image/png": "[encoded data removed]",
      "text/plain": [
       "<Figure size 432x288 with 1 Axes>"
      ]
     },
     "metadata": {
      "needs_background": "light"
     },
     "output_type": "display_data"
    }
   ],
   "source": [
    "# Importing libraries\n",
    "import pandas as pd\n",
    "import matplotlib.pyplot as plt\n",
    "\n",
    "# Loading the Wine Quality Dataset from local CSV\n",
    "wine_df = pd.read_csv(r\"C:\\Users\\posit\\wine+quality\\winequality-red.csv\", delimiter=';')  # Update path if needed\n",
    "\n",
    "# Count of unique values\n",
    "print(\"\\nUnique values in Wine Dataset:\")\n",
    "print(wine_df.nunique())\n",
    "\n",
    "# Checking for missing values\n",
    "print(\"\\nMissing values in Wine Dataset:\")\n",
    "print(wine_df.isnull().sum())\n",
    "\n",
    "# Histogram for the 'quality' feature\n",
    "plt.hist(wine_df['quality'], bins=10, color='purple', alpha=0.7)\n",
    "plt.xlabel('Quality')\n",
    "plt.ylabel('Count')\n",
    "plt.title('Quality Distribution for Red Wine')\n",
    "plt.grid(True)\n",
    "plt.show()\n"
   ]
  },
  {
   "cell_type": "markdown",
   "id": "92593f04",
   "metadata": {},
   "source": [
    "Bravo for getting this far, Cosmic Coder! Now for a real Martian challenge. Let's apply your newfound knowledge and deep comprehension of the \"Wine Quality\" dataset to help us understand a Martian Wine festival.\n",
    "\n",
    "The task is to visualize the Wine Quality distribution of Red and White wines during the annual Olympus Mons Wine Festival. However, the existing code seems to have a small hiccup, and the histogram is not displaying properly. Can you debug the code, find the issue, and ensure it effectively shows the quality distribution of both Red and White wines?\n",
    "\n",
    "Good luck, space adventurer! Look for the hidden asteroid in the code."
   ]
  },
  {
   "cell_type": "code",
   "execution_count": 12,
   "id": "82bab929",
   "metadata": {},
   "outputs": [
    {
     "name": "stdout",
     "output_type": "stream",
     "text": [
      "Red wine columns: Index(['fixed acidity', 'volatile acidity', 'citric acid', 'residual sugar',\n",
      "       'chlorides', 'free sulfur dioxide', 'total sulfur dioxide', 'density',\n",
      "       'pH', 'sulphates', 'alcohol', 'quality'],\n",
      "      dtype='object')\n",
      "White wine columns: Index(['fixed acidity', 'volatile acidity', 'citric acid', 'residual sugar',\n",
      "       'chlorides', 'free sulfur dioxide', 'total sulfur dioxide', 'density',\n",
      "       'pH', 'sulphates', 'alcohol', 'quality'],\n",
      "      dtype='object')\n"
     ]
    },
    {
     "data": {
      "image/png": "[encoded data removed]",
      "text/plain": [
       "<Figure size 720x360 with 1 Axes>"
      ]
     },
     "metadata": {
      "needs_background": "light"
     },
     "output_type": "display_data"
    }
   ],
   "source": [
    "import matplotlib.pyplot as plt\n",
    "import pandas as pd\n",
    "\n",
    "# Load the wine datasets using pandas\n",
    "red_wine = pd.read_csv(r\"C:\\Users\\posit\\wine+quality\\winequality-red.csv\", delimiter=';')\n",
    "white_wine = pd.read_csv(r\"C:\\Users\\posit\\wine+quality\\winequality-white.csv\", delimiter=';')\n",
    "\n",
    "# Optional: check column names to confirm\n",
    "print(\"Red wine columns:\", red_wine.columns)\n",
    "print(\"White wine columns:\", white_wine.columns)\n",
    "\n",
    "# Plot combined histogram\n",
    "plt.figure(figsize=(10, 5))\n",
    "plt.hist(red_wine['quality'], bins=10, color='red', alpha=0.6, label='Red Wine', edgecolor='black')\n",
    "plt.hist(white_wine['quality'], bins=10, color='skyblue', alpha=0.6, label='White Wine', edgecolor='black')\n",
    "plt.xlabel('Quality')\n",
    "plt.ylabel('Count')\n",
    "plt.title('Quality Distribution for Red & White Wines')\n",
    "plt.legend()\n",
    "plt.grid(True)\n",
    "plt.tight_layout()\n",
    "plt.show()\n"
   ]
  },
  {
   "cell_type": "markdown",
   "id": "0f2c5ca8",
   "metadata": {},
   "source": [
    "That's a wrap, Space Voyager! You've made incredible progress in understanding the Wine Quality dataset. Now, we have one last challenge before closing this chapter.\n",
    "\n",
    "Using the skills you've honed so far, can you harness your coding prowess to check for any missing values in the Red Wine dataset? Follow the provided TODO comments."
   ]
  },
  {
   "cell_type": "code",
   "execution_count": 3,
   "id": "c5791bbf",
   "metadata": {},
   "outputs": [
    {
     "name": "stdout",
     "output_type": "stream",
     "text": [
      "✅ No missing values found in the Red Wine dataset.\n"
     ]
    }
   ],
   "source": [
    "import matplotlib.pyplot as plt\n",
    "import pandas as pd\n",
    "\n",
    "# Load the wine datasets using pandas\n",
    "red_wine = pd.read_csv(r\"C:\\Users\\posit\\wine+quality\\winequality-red.csv\", delimiter=';')\n",
    "white_wine = pd.read_csv(r\"C:\\Users\\posit\\wine+quality\\winequality-white.csv\", delimiter=';')\n",
    "\n",
    "\n",
    "# ✅ TODO: Convert the loaded data into a pandas DataFrame.\n",
    "red_wine_df = pd.DataFrame(red_wine)\n",
    "\n",
    "# ✅ TODO: Check for missing values and print a message accordingly.\n",
    "missing_counts = red_wine_df.isnull().sum()\n",
    "\n",
    "if missing_counts.sum() > 0:\n",
    "    print(\"⚠️ Missing values found:\")\n",
    "    print(missing_counts[missing_counts > 0])\n",
    "else:\n",
    "    print(\"✅ No missing values found in the Red Wine dataset.\")\n"
   ]
  },
  {
   "cell_type": "markdown",
   "id": "cef6b077",
   "metadata": {},
   "source": [
    "# Mastering Gradient Descent: Your Guide to Optimizing Machine Learning Models"
   ]
  },
  {
   "cell_type": "markdown",
   "id": "60207f02",
   "metadata": {},
   "source": [
    "Mathematics Behind Gradient Descent\n",
    "Having conceptualized Gradient Descent, let’s delve deeper and uncover the mathematical mechanics that fuel it. At its core, Gradient Descent relies on two key mathematical mechanisms: the Cost Function and the Learning Rate.\n",
    "\n",
    "The Cost Function (or Loss Function) quantifies the disparity between predicted and expected values, presenting it as a single float number. The type of cost function utilized depends on the challenge at hand. In our Wine Quality dataset, we can define a cost function that computes the difference between our model's predicted quality of wine and the actual quality.\n",
    "\n",
    "The Learning Rate, symbolized by \n",
    "α\n",
    "α, dictates the size of the steps we take downhill. A lower value of \n",
    "α\n",
    "α results in smaller, more precise steps, while a high value could cause drastic, potentially unstable steps."
   ]
  },
  {
   "cell_type": "markdown",
   "id": "8787f812",
   "metadata": {},
   "source": [
    "🌄 Easy Explanation of Gradient Descent:\n",
    "Imagine you're standing on top of a hill 🌄 in the fog — you want to get to the lowest point in the valley, but you can’t see far.\n",
    "\n",
    "The hill’s shape is like a math function, called g(x) — it tells you how high you are at each position x.\n",
    "\n",
    "To go downhill, you ask:\n",
    "👉 “Which direction is the steepest way down right now?”\n",
    "\n",
    "That answer comes from the gradient, which is like a slope — it’s called g′(x).\n",
    "\n",
    "But if you follow the slope up, you’d go higher.\n",
    "So instead, you move in the opposite direction: −g′(x) → the steepest way down. 🧗‍♂️⬇️\n",
    "\n",
    "You take small steps downhill, one at a time.\n",
    "\n",
    "When the slope becomes flat (gradient is 0), you've reached the bottom of the valley — that's the best (lowest) point. 🎯"
   ]
  },
  {
   "cell_type": "markdown",
   "id": "3f7b0f54",
   "metadata": {},
   "source": [
    "| Type       | Data per Step          | Speed  | Stability   | Common Use Case                |\n",
    "| ---------- | ---------------------- | ------ | ----------- | ------------------------------ |\n",
    "| Batch      | All data               | Slow   | Very stable | Small datasets                 |\n",
    "| Stochastic | 1 sample               | Fast   | Unstable    | Online learning, big data      |\n",
    "| Mini-batch | Small batch (e.g., 32) | Medium | Balanced    | Deep learning (default choice) |\n"
   ]
  },
  {
   "cell_type": "markdown",
   "id": "2138cd83",
   "metadata": {},
   "source": [
    "We've made great strides in mastering Gradient Descent today, don't you think? Time to see it in action!\n",
    "\n",
    "Have you ever wondered how the density of white wine affects its quality? Looks like it's time for another adventure through the vineyards, Space Explorer!\n",
    "\n",
    "All you've got to do is press the Run button, and we're off into the Pythonic vineyards of white wine. Ready? Set. Go!"
   ]
  },
  {
   "cell_type": "code",
   "execution_count": 4,
   "id": "9acc0575",
   "metadata": {},
   "outputs": [
    {
     "data": {
      "image/png": "[encoded data removed]",
      "text/plain": [
       "<Figure size 720x432 with 1 Axes>"
      ]
     },
     "metadata": {
      "needs_background": "light"
     },
     "output_type": "display_data"
    }
   ],
   "source": [
    "import pandas as pd\n",
    "import numpy as np\n",
    "from sklearn.model_selection import train_test_split \n",
    "import matplotlib.pyplot as plt\n",
    "\n",
    "# Load the wine datasets using pandas\n",
    "red_wine = pd.read_csv(r\"C:\\Users\\posit\\wine+quality\\winequality-red.csv\", delimiter=';')\n",
    "white_wine = pd.read_csv(r\"C:\\Users\\posit\\wine+quality\\winequality-white.csv\", delimiter=';')\n",
    "\n",
    "\n",
    "white_wine = pd.DataFrame(white_wine)\n",
    "\n",
    "# Only consider the 'density' column as a predictive feature for now\n",
    "x = pd.DataFrame(white_wine['density'])\n",
    "y = white_wine['quality']\n",
    "\n",
    "# Splitting datasets into training and testing datasets\n",
    "x_train, x_test, y_train, y_test = train_test_split(x, y, test_size=0.3, random_state=0)\n",
    "\n",
    "# We set our parameters to start at 0\n",
    "theta = np.zeros(x_train.shape[1]).reshape(-1, 1)\n",
    "\n",
    "# Gradient Descent Function\n",
    "def gradient_descent(x, y, theta, alpha, iterations):\n",
    "    m = y.size\n",
    "    cost_list = []\n",
    "    theta_list = [theta]\n",
    "    \n",
    "    for i in range(iterations):\n",
    "        prediction = np.dot(x, theta)\n",
    "        error = prediction - y\n",
    "        cost = 1 / (2*m) * np.dot(error.T, error)\n",
    "        cost_list.append(np.squeeze(cost))\n",
    "        theta = theta - (alpha * (1/m) * np.dot(x.T, error))\n",
    "        theta_list.append(theta)\n",
    "    \n",
    "    return theta, theta_list, cost_list\n",
    "\n",
    "# Define the number of iterations and alpha value\n",
    "alpha = 0.001\n",
    "iters = 2000\n",
    "\n",
    "# Applying Gradient Descent\n",
    "y_train = np.array(y_train).reshape(-1, 1)\n",
    "g, theta_list, cost_list = gradient_descent(x_train, y_train, theta, alpha, iters)\n",
    "\n",
    "\n",
    "plt.figure(figsize=(10, 6))\n",
    "plt.plot(range(1, iters + 1), cost_list, color='blue')\n",
    "plt.grid()\n",
    "plt.xlabel('Number of iterations')\n",
    "plt.ylabel('Cost (J)')\n",
    "plt.title('Convergence of gradient descent')\n",
    "plt.show()"
   ]
  },
  {
   "cell_type": "markdown",
   "id": "e7825a7b",
   "metadata": {},
   "source": [
    "Superb job on applying Gradient Descent on the Wine Dataset! Let's take another shot at understanding how the model performs. You retained a 70% dataset for training. But how does the model perform with the remaining 30% testing set?\n",
    "\n",
    "In the code provided, we're attempting to apply the trained model to our testing dataset and observing the cost function. However, it doesn't seem to give out the expected results.\n",
    "\n",
    "Can you identify and rectify this issue to ensure the output reflects the cost function of our model performance on the test dataset?\n",
    "\n",
    "Good luck!\n",
    "\n",
    "Exactly — you're 100% right to clarify this.\n",
    "\n",
    "✅ The test set should not run gradient descent.\n",
    "Here’s why:\n",
    "\n",
    "💡 Purpose of Gradient Descent\n",
    "Gradient descent is used to train a model — that is, to learn the best parameters (theta) by minimizing the cost function on the training data.\n",
    "\n",
    "It updates parameters (like weights in linear regression) step by step until the model fits the data well.\n",
    "\n",
    "📦 Purpose of the Test Set\n",
    "The test set is for evaluation only.\n",
    "\n",
    "You use the theta (learned from training) to predict outcomes on the test set.\n",
    "\n",
    "Then, you compute metrics like cost, mean squared error (MSE), mean absolute error (MAE), or R² to see how well the model generalizes to unseen data.\n",
    "\n",
    "❌ What Not to Do\n",
    "If you run gradient descent on the test set:\n",
    "\n",
    "You're training on test data, which is a form of data leakage.\n",
    "\n",
    "It means you're cheating — your model is no longer being evaluated on truly unseen data.\n",
    "\n",
    "It invalidates the whole purpose of splitting the data.\n",
    "\n",
    "\n",
    "\n",
    "✅ Correct Flow:\n",
    "Split data: 70% training, 30% test.\n",
    "\n",
    "Train model using gradient descent only on training data → get optimized theta.\n",
    "\n",
    "Predict on the test set using that theta.\n",
    "\n",
    "Evaluate performance (e.g., by computing cost, MSE, R²) — but do not retrain.\n",
    "\n"
   ]
  },
  {
   "cell_type": "code",
   "execution_count": 6,
   "id": "fcd93175",
   "metadata": {},
   "outputs": [
    {
     "name": "stdout",
     "output_type": "stream",
     "text": [
      "Final test cost (J): 0.39903129599297477\n"
     ]
    },
    {
     "data": {
      "image/png": "[encoded data removed]",
      "text/plain": [
       "<Figure size 720x432 with 1 Axes>"
      ]
     },
     "metadata": {
      "needs_background": "light"
     },
     "output_type": "display_data"
    }
   ],
   "source": [
    "import pandas as pd\n",
    "import numpy as np\n",
    "from sklearn.model_selection import train_test_split \n",
    "import matplotlib.pyplot as plt\n",
    "\n",
    "# Load the wine datasets using pandas\n",
    "red_wine = pd.read_csv(r\"C:\\Users\\posit\\wine+quality\\winequality-red.csv\", delimiter=';')\n",
    "white_wine = pd.read_csv(r\"C:\\Users\\posit\\wine+quality\\winequality-white.csv\", delimiter=';')\n",
    "\n",
    "\n",
    "red_wine = pd.DataFrame(red_wine)\n",
    "\n",
    "# Only consider the 'pH' column as a predictive feature for now\n",
    "x = pd.DataFrame(red_wine['pH'])\n",
    "y = red_wine['quality']\n",
    "\n",
    "# Splitting datasets into training and testing datasets\n",
    "x_train, x_test, y_train, y_test = train_test_split(x, y, test_size=0.3, random_state=10)\n",
    "\n",
    "# Initialize theta with zeros\n",
    "theta = np.zeros(x_train.shape[1]).reshape(-1, 1)\n",
    "\n",
    "# Gradient Descent Function\n",
    "def gradient_descent(x, y, theta, alpha, iterations):\n",
    "    m = y.size\n",
    "    cost_list = []\n",
    "    theta_list = [theta]\n",
    "    \n",
    "    for i in range(iterations):\n",
    "        prediction = np.dot(x, theta)\n",
    "        error = prediction - y\n",
    "        cost = 1 / (2*m) * np.dot(error.T, error)\n",
    "        cost_list.append(np.squeeze(cost))\n",
    "        theta = theta - (alpha * (1/m) * np.dot(x.T, error))\n",
    "        theta_list.append(theta)\n",
    "    \n",
    "    return theta, theta_list, cost_list\n",
    "\n",
    "# Define learning rate and number of iterations\n",
    "alpha = 0.01\n",
    "iters = 1500\n",
    "\n",
    "# Reshape y_train and apply Gradient Descent on training set\n",
    "y_train = np.array(y_train).reshape(-1, 1)\n",
    "x_train = np.array(x_train).reshape(-1, 1)\n",
    "g, theta_list, cost_list = gradient_descent(x_train, y_train, theta, alpha, iters)\n",
    "\n",
    "# Evaluate on the test set (without retraining)\n",
    "y_test = np.array(y_test).reshape(-1, 1)\n",
    "x_test = np.array(x_test).reshape(-1, 1)\n",
    "\n",
    "# Predict using learned parameters g\n",
    "pred_test = np.dot(x_test, g)\n",
    "\n",
    "# Compute cost on the test set\n",
    "m_test = y_test.shape[0]\n",
    "error_test = pred_test - y_test\n",
    "cost_test = 1 / (2 * m_test) * np.dot(error_test.T, error_test)\n",
    "\n",
    "print(\"Final test cost (J):\", np.squeeze(cost_test))\n",
    "\n",
    "# Plot training and test cost\n",
    "plt.figure(figsize=(10, 6))\n",
    "plt.plot(range(1, iters + 1), cost_list, color='blue', label='Training Cost')\n",
    "plt.hlines(np.squeeze(cost_test), 1, iters, colors='orange', linestyles='--', label='Test Cost')\n",
    "plt.grid()\n",
    "plt.xlabel('Number of iterations')\n",
    "plt.ylabel('Cost (J)')\n",
    "plt.title('Training vs Test Cost (Gradient Descent)')\n",
    "plt.legend()\n",
    "plt.show()\n"
   ]
  },
  {
   "cell_type": "markdown",
   "id": "e8f4dbcb",
   "metadata": {},
   "source": [
    "# Mastering Linear Regression: From Theories to Predictions"
   ]
  },
  {
   "cell_type": "markdown",
   "id": "35376b52",
   "metadata": {},
   "source": [
    "# Examining the Model's Performance\n",
    "That wasn't too bad, was it? But hold on, we're not done yet. It's crucial to check the model's performance by examining the residuals, simply the difference between the actual and predicted values. The smaller the residuals, the better the model performs. We'll look at two key metrics here:\n",
    "\n",
    "Mean Squared Error (MSE): The average of the squared errors, with larger errors contributing more due to the squaring. This is the cost function we discussed earlier.\n",
    "Coefficient of Determination (R-squared): This measures the degree of variation in the target variable that our model could predict. It ranges between 0 and 1, with a higher value representing a higher quality of our model.\n",
    "Here's how to calculate MSE and R-squared in Python:\n",
    "\n",
    "Python\n"
   ]
  },
  {
   "cell_type": "code",
   "execution_count": 2,
   "id": "faaede31",
   "metadata": {},
   "outputs": [
    {
     "name": "stdout",
     "output_type": "stream",
     "text": [
      "Mean Squared Error: 0.5630133853192613\n",
      "R-squared: 0.14469957288771373\n"
     ]
    },
    {
     "data": {
      "image/png": "[encoded data removed]",
      "text/plain": [
       "<Figure size 432x288 with 1 Axes>"
      ]
     },
     "metadata": {
      "needs_background": "light"
     },
     "output_type": "display_data"
    }
   ],
   "source": [
    "# Import necessary libraries\n",
    "from sklearn.model_selection import train_test_split\n",
    "from sklearn.linear_model import LinearRegression\n",
    "from sklearn import metrics\n",
    "import pandas as pd\n",
    "import matplotlib.pyplot as plt\n",
    "\n",
    "\n",
    "# Load the wine datasets using pandas\n",
    "red_wine = pd.read_csv(r\"C:\\Users\\posit\\wine+quality\\winequality-red.csv\", delimiter=';')\n",
    "white_wine = pd.read_csv(r\"C:\\Users\\posit\\wine+quality\\winequality-white.csv\", delimiter=';')\n",
    "\n",
    "\n",
    "red_wine = pd.DataFrame(red_wine)\n",
    "\n",
    "# Select features and the target variable\n",
    "features = red_wine[['fixed acidity', 'volatile acidity']]\n",
    "target = red_wine['quality']\n",
    "\n",
    "# Split the dataset into a training set and a testing set\n",
    "features_train, features_test, target_train, target_test = train_test_split(features, target, test_size=0.3, random_state=128)\n",
    "\n",
    "# Instantiate and fit the model\n",
    "model = LinearRegression()\n",
    "model.fit(features_train, target_train)\n",
    "\n",
    "# Predict on the test features\n",
    "predictions = model.predict(features_test)\n",
    "\n",
    "# Evaluate the model for Mean Squared Error and R-squared score\n",
    "mse = metrics.mean_squared_error(target_test, predictions)\n",
    "r2_score = metrics.r2_score(target_test, predictions)\n",
    "print(f'Mean Squared Error: {mse}')\n",
    "print(f'R-squared: {r2_score}')\n",
    "\n",
    "# Plotting Actual vs Predicted values\n",
    "plt.scatter(target_test, predictions, color='darkred')\n",
    "plt.plot([target_test.min(), target_test.max()], [target_test.min(), target_test.max()], 'k--', lw=2)\n",
    "plt.xlabel('Actual')\n",
    "plt.ylabel('Predicted')\n",
    "plt.title('Actual vs Predicted wine quality based on fixed and volatile acidity')\n",
    "plt.show()"
   ]
  },
  {
   "cell_type": "markdown",
   "id": "c51b5371",
   "metadata": {},
   "source": [
    "Great work, Voyager! You've completed the first few exercises, but now, it's time for a new challenge requiring a critical code analysis.\n",
    "\n",
    "Imagine you want to understand the correlation between residual sugar and pH about the quality of red wine. A bug in the code is preventing you from getting accurate results. Can you spot the problem and fix it?"
   ]
  },
  {
   "cell_type": "code",
   "execution_count": 3,
   "id": "90c87a58",
   "metadata": {},
   "outputs": [
    {
     "name": "stdout",
     "output_type": "stream",
     "text": [
      "<class 'pandas.core.frame.DataFrame'>\n",
      "RangeIndex: 1599 entries, 0 to 1598\n",
      "Data columns (total 12 columns):\n",
      " #   Column                Non-Null Count  Dtype  \n",
      "---  ------                --------------  -----  \n",
      " 0   fixed acidity         1599 non-null   float64\n",
      " 1   volatile acidity      1599 non-null   float64\n",
      " 2   citric acid           1599 non-null   float64\n",
      " 3   residual sugar        1599 non-null   float64\n",
      " 4   chlorides             1599 non-null   float64\n",
      " 5   free sulfur dioxide   1599 non-null   float64\n",
      " 6   total sulfur dioxide  1599 non-null   float64\n",
      " 7   density               1599 non-null   float64\n",
      " 8   pH                    1599 non-null   float64\n",
      " 9   sulphates             1599 non-null   float64\n",
      " 10  alcohol               1599 non-null   float64\n",
      " 11  quality               1599 non-null   int64  \n",
      "dtypes: float64(11), int64(1)\n",
      "memory usage: 150.0 KB\n",
      "None\n",
      "Mean Squared Error: 0.6535372020091985\n",
      "R-squared: -0.0027517747722145547\n"
     ]
    }
   ],
   "source": [
    "# Import necessary libraries\n",
    "from sklearn.model_selection import train_test_split\n",
    "from sklearn.linear_model import LinearRegression\n",
    "from sklearn import metrics\n",
    "import pandas as pd\n",
    "import matplotlib.pyplot as plt\n",
    "\n",
    "\n",
    "# Load the wine datasets using pandas\n",
    "red_wine = pd.read_csv(r\"C:\\Users\\posit\\wine+quality\\winequality-red.csv\", delimiter=';')\n",
    "white_wine = pd.read_csv(r\"C:\\Users\\posit\\wine+quality\\winequality-white.csv\", delimiter=';')\n",
    "\n",
    "\n",
    "red_wine = pd.DataFrame(red_wine)\n",
    "\n",
    "print(red_wine.info())\n",
    "# Select features and target\n",
    "features = red_wine[['residual sugar', 'pH']] \n",
    "target = red_wine['quality']\n",
    "\n",
    "# Split the dataset into a training set and a testing set. We use a different test size and random state value from the lesson content.\n",
    "features_train, features_test, target_train, target_test = train_test_split(features, target, test_size=0.25, random_state=21)\n",
    "\n",
    "# Instantiate and fit the model\n",
    "model = LinearRegression()\n",
    "model.fit(features_train, target_train)\n",
    "\n",
    "# Predict on the test features\n",
    "predictions = model.predict(features_test)\n",
    "\n",
    "# Evaluate the model using Mean Squared Error\n",
    "mse = metrics.mean_squared_error(target_test, predictions)\n",
    "print('Mean Squared Error:', mse)\n",
    "\n",
    "# Calculate and Print R-squared value for the model\n",
    "r2_score = metrics.r2_score(target_test, predictions)\n",
    "print('R-squared:', r2_score)"
   ]
  },
  {
   "cell_type": "markdown",
   "id": "7a9e7f68",
   "metadata": {},
   "source": [
    "Impressive work, Voyager! Your mastery of Linear Regression shines bright!\n",
    "\n",
    "Next, we will examine the relationship between red wine's 'volatile acidity' and 'quality'. Moreover, we'll add a flair of 'total sulfur dioxide' to our study!\n",
    "\n",
    "You aim to complete the starter code below that uses Linear Regression to analyze these relationships and predict wine quality.\n",
    "\n",
    "Can you fill in the missing pieces and print out the Mean Squared Error value?\n",
    "\n",
    "Let's unravel this marvel!"
   ]
  },
  {
   "cell_type": "code",
   "execution_count": 4,
   "id": "2619cb00",
   "metadata": {},
   "outputs": [
    {
     "name": "stdout",
     "output_type": "stream",
     "text": [
      "<class 'pandas.core.frame.DataFrame'>\n",
      "RangeIndex: 1599 entries, 0 to 1598\n",
      "Data columns (total 12 columns):\n",
      " #   Column                Non-Null Count  Dtype  \n",
      "---  ------                --------------  -----  \n",
      " 0   fixed acidity         1599 non-null   float64\n",
      " 1   volatile acidity      1599 non-null   float64\n",
      " 2   citric acid           1599 non-null   float64\n",
      " 3   residual sugar        1599 non-null   float64\n",
      " 4   chlorides             1599 non-null   float64\n",
      " 5   free sulfur dioxide   1599 non-null   float64\n",
      " 6   total sulfur dioxide  1599 non-null   float64\n",
      " 7   density               1599 non-null   float64\n",
      " 8   pH                    1599 non-null   float64\n",
      " 9   sulphates             1599 non-null   float64\n",
      " 10  alcohol               1599 non-null   float64\n",
      " 11  quality               1599 non-null   int64  \n",
      "dtypes: float64(11), int64(1)\n",
      "memory usage: 150.0 KB\n",
      "None\n",
      "0.5228370038258412\n"
     ]
    }
   ],
   "source": [
    "# Import the necessary libraries\n",
    "from sklearn.model_selection import train_test_split\n",
    "from sklearn.linear_model import LinearRegression\n",
    "from sklearn import metrics\n",
    "import pandas as pd\n",
    "import numpy as np\n",
    "import statsmodels.api as sm\n",
    "\n",
    "# Load the wine datasets using pandas\n",
    "red_wine = pd.read_csv(r\"C:\\Users\\posit\\wine+quality\\winequality-red.csv\", delimiter=';')\n",
    "white_wine = pd.read_csv(r\"C:\\Users\\posit\\wine+quality\\winequality-white.csv\", delimiter=';')\n",
    "\n",
    "\n",
    "red_wine = pd.DataFrame(red_wine)\n",
    "print(red_wine.info())\n",
    "# TODO: Select 'volatile acidity' and 'total sulfur dioxide' as features and 'quality' as the target variable.\n",
    "features = red_wine[['volatile acidity','total sulfur dioxide']]\n",
    "target = red_wine['quality']\n",
    "# Split the dataset into a training set and a testing set\n",
    "features_train, features_test, target_train, target_test = train_test_split(features, target, test_size=0.2, random_state=30)\n",
    "\n",
    "# Instantiate and fit the model\n",
    "model = LinearRegression()\n",
    "model.fit(features_train, target_train)\n",
    "\n",
    "# Predict on the test features\n",
    "predictions = model.predict(features_test)\n",
    "\n",
    "# TODO: Evaluate the model using Mean Squared Error and print out the value.\n",
    "mse = metrics.mean_squared_error(target_test, predictions)\n",
    "print (mse)"
   ]
  },
  {
   "cell_type": "markdown",
   "id": "8c282e43",
   "metadata": {},
   "source": [
    "Congratulations, explorer! You've made it to the final challenge of this topic. Now, it's time to put all your learning into practice.\n",
    "\n",
    "For this task, let's examine the impact of 'fixed acidity' and 'pH' on the 'quality' of white wine using linear regression. Your task is to implement a solution that answers this question: What is the impact of fixed acidity and pH on the quality of white wine?\n",
    "\n",
    "Refer to the instructions in the TODO comments in the starter code – they will guide you in your quest to implement this.\n",
    "\n",
    "You're ready for this! Let's dive in."
   ]
  },
  {
   "cell_type": "code",
   "execution_count": 6,
   "id": "4495fc7b",
   "metadata": {},
   "outputs": [
    {
     "name": "stdout",
     "output_type": "stream",
     "text": [
      "<class 'pandas.core.frame.DataFrame'>\n",
      "<class 'pandas.core.frame.DataFrame'>\n",
      "RangeIndex: 4898 entries, 0 to 4897\n",
      "Data columns (total 12 columns):\n",
      " #   Column                Non-Null Count  Dtype  \n",
      "---  ------                --------------  -----  \n",
      " 0   fixed acidity         4898 non-null   float64\n",
      " 1   volatile acidity      4898 non-null   float64\n",
      " 2   citric acid           4898 non-null   float64\n",
      " 3   residual sugar        4898 non-null   float64\n",
      " 4   chlorides             4898 non-null   float64\n",
      " 5   free sulfur dioxide   4898 non-null   float64\n",
      " 6   total sulfur dioxide  4898 non-null   float64\n",
      " 7   density               4898 non-null   float64\n",
      " 8   pH                    4898 non-null   float64\n",
      " 9   sulphates             4898 non-null   float64\n",
      " 10  alcohol               4898 non-null   float64\n",
      " 11  quality               4898 non-null   int64  \n",
      "dtypes: float64(11), int64(1)\n",
      "memory usage: 459.3 KB\n",
      "None\n",
      "0.7483369933433651\n",
      "0.008867396004853645\n"
     ]
    }
   ],
   "source": [
    "# Import the necessary libraries\n",
    "from sklearn.model_selection import train_test_split\n",
    "from sklearn.linear_model import LinearRegression\n",
    "from sklearn import metrics\n",
    "import pandas as pd\n",
    "import numpy as np\n",
    "\n",
    "# Load the Wine Quality Dataset\n",
    "import datasets\n",
    "# TODO: Load the 'white' wine dataset and create DataFrame\n",
    "#white_wine = datasets.load_dataset('codesignal/wine-quality', split='white', trust_remote_code=True)\n",
    "# Load the wine datasets using pandas\n",
    "red_wine = pd.read_csv(r\"C:\\Users\\posit\\wine+quality\\winequality-red.csv\", delimiter=';')\n",
    "white_wine = pd.read_csv(r\"C:\\Users\\posit\\wine+quality\\winequality-white.csv\", delimiter=';')\n",
    "white_wine = pd.DataFrame(white_wine)\n",
    "print(type(white_wine))\n",
    "# Select 'fixed acidity' and 'pH' as features and 'quality' as the target variable\n",
    "# TODO: Define your features and target\n",
    "print(white_wine.info())\n",
    "features = white_wine[['fixed acidity','pH']]\n",
    "target = white_wine['quality']\n",
    "\n",
    "\n",
    "# Split the dataset into a training set and a testing set\n",
    "# TODO: Split your dataset into a training and a testing set\n",
    "features_Train, features_Test, target_Train, target_Test = train_test_split(features, target, test_size=0.3, random_state = 42)\n",
    "# Instantiate and fit the model\n",
    "# TODO: Instantiate LinearRegression model and fit it using training data\n",
    "model = LinearRegression()\n",
    "model.fit(features_Train, target_Train)\n",
    "# Predict the test features\n",
    "\n",
    "# TODO: Make predictions using the model\n",
    "prediction = model.predict(features_Test)\n",
    "# Evaluate the model using Mean Squared Error and print out the value.\n",
    "# TODO: Calculate the Mean Squared Error and print the value.\n",
    "mse = metrics.mean_squared_error(target_Test, prediction)\n",
    "print(mse)\n",
    "# Calculate and Print the R-squared value for the model\n",
    "R_squared = metrics.r2_score(target_Test, prediction)\n",
    "# TODO: Calculate and print the R-squared value for the model\n",
    "print(R_squared)"
   ]
  },
  {
   "cell_type": "markdown",
   "id": "e18c5536",
   "metadata": {},
   "source": [
    "# Logistic Regression knowledge \n",
    "\n",
    "Ever wondered how effective a machine learning model can be in accurately predicting wine quality?\n",
    "\n",
    "Let's find out! Using the Python scikit-learn library, we will create a binary Logistic Regression model, train it with the Wine Quality dataset, and evaluate its performance.\n",
    "\n",
    "Hit the Run button to see the magic unfold!"
   ]
  },
  {
   "cell_type": "code",
   "execution_count": null,
   "id": "e791bae3",
   "metadata": {},
   "outputs": [],
   "source": []
  },
  {
   "cell_type": "markdown",
   "id": "6d30139e",
   "metadata": {},
   "source": [
    "Fantastic, you ran the coding solution smoothly! Now, how about we try shifting gears a bit? In the real world, quality standards may change over time.\n",
    "\n",
    "Let's assume the wine quality rating threshold has been revised - a wine with a quality rating of 6 or above is now considered good. Can you modify the code to reflect this new standard?"
   ]
  },
  {
   "cell_type": "code",
   "execution_count": 6,
   "id": "1e9c0805",
   "metadata": {},
   "outputs": [
    {
     "name": "stdout",
     "output_type": "stream",
     "text": [
      "Model Coefficients: [-1.76595186e-01 -5.38165552e+00 -1.95236998e-02  6.39345911e-02\n",
      "  3.57565870e-01  1.41407825e-02 -2.85147765e-03 -2.83481871e-01\n",
      "  2.18680461e-01  1.08394259e+00  1.02540056e+00]\n",
      "Intercept: -8.64144942038747\n",
      "Accuracy: 0.7371428571428571\n",
      "Precision: 0.7786343612334802\n",
      "Recall: 0.8538647342995169\n",
      "F1 Score: 0.8145161290322581\n",
      "\n",
      "📊 Statsmodels Summary:\n",
      "                           Logit Regression Results                           \n",
      "==============================================================================\n",
      "Dep. Variable:                quality   No. Observations:                 3673\n",
      "Model:                          Logit   Df Residuals:                     3661\n",
      "Method:                           MLE   Df Model:                           11\n",
      "Date:                Sat, 26 Jul 2025   Pseudo R-squ.:                  0.2134\n",
      "Time:                        14:30:17   Log-Likelihood:                -1849.0\n",
      "converged:                       True   LL-Null:                       -2350.6\n",
      "Covariance Type:            nonrobust   LLR p-value:                3.723e-208\n",
      "========================================================================================\n",
      "                           coef    std err          z      P>|z|      [0.025      0.975]\n",
      "----------------------------------------------------------------------------------------\n",
      "const                  151.2793     70.291      2.152      0.031      13.511     289.048\n",
      "fixed acidity           -0.0523      0.078     -0.674      0.501      -0.204       0.100\n",
      "volatile acidity        -6.6032      0.477    -13.851      0.000      -7.538      -5.669\n",
      "citric acid             -0.0759      0.356     -0.213      0.831      -0.773       0.622\n",
      "residual sugar           0.1315      0.028      4.696      0.000       0.077       0.186\n",
      "chlorides                2.6914      1.984      1.357      0.175      -1.197       6.579\n",
      "free sulfur dioxide      0.0118      0.003      3.665      0.000       0.005       0.018\n",
      "total sulfur dioxide    -0.0016      0.001     -1.157      0.247      -0.004       0.001\n",
      "density               -163.3903     71.322     -2.291      0.022    -303.178     -23.603\n",
      "pH                       0.8828      0.400      2.206      0.027       0.099       1.667\n",
      "sulphates                1.6700      0.413      4.047      0.000       0.861       2.479\n",
      "alcohol                  0.9021      0.095      9.474      0.000       0.715       1.089\n",
      "========================================================================================\n"
     ]
    },
    {
     "name": "stderr",
     "output_type": "stream",
     "text": [
      "C:\\Users\\posit\\anaconda3\\lib\\site-packages\\sklearn\\linear_model\\_logistic.py:465: ConvergenceWarning: lbfgs failed to converge (status=1):\n",
      "STOP: TOTAL NO. of ITERATIONS REACHED LIMIT.\n",
      "\n",
      "Increase the number of iterations (max_iter) or scale the data as shown in:\n",
      "    https://scikit-learn.org/stable/modules/preprocessing.html\n",
      "Please also refer to the documentation for alternative solver options:\n",
      "    https://scikit-learn.org/stable/modules/linear_model.html#logistic-regression\n",
      "  n_iter_i = _check_optimize_result(\n",
      "C:\\Users\\posit\\anaconda3\\lib\\site-packages\\statsmodels\\tsa\\tsatools.py:142: FutureWarning: In a future version of pandas all arguments of concat except for the argument 'objs' will be keyword-only\n",
      "  x = pd.concat(x[::order], 1)\n"
     ]
    }
   ],
   "source": [
    "# Import the required libraries\n",
    "import pandas as pd\n",
    "from sklearn.model_selection import train_test_split\n",
    "from sklearn.linear_model import LogisticRegression\n",
    "from sklearn import metrics\n",
    "import statsmodels.api as sm\n",
    "\n",
    "def predict_quality(wine_type='white'):\n",
    "    # ✅ Load dataset from local CSV file\n",
    "    if wine_type == 'white':\n",
    "        dataset = pd.read_csv(r\"C:\\Users\\posit\\wine+quality\\winequality-white.csv\", delimiter=';')\n",
    "    elif wine_type == 'red':\n",
    "        dataset = pd.read_csv(r\"C:\\Users\\posit\\wine+quality\\winequality-red.csv\", delimiter=';')\n",
    "    else:\n",
    "        print(\"Invalid wine type. Please choose 'white' or 'red'.\")\n",
    "        return\n",
    "\n",
    "    # ✅ Convert the quality ratings to binary (1 if quality >= 6, else 0)\n",
    "    dataset['quality'] = dataset['quality'].apply(lambda x: 1 if x >= 6 else 0)\n",
    "\n",
    "    # ✅ Separate features and target\n",
    "    X = dataset.drop('quality', axis=1)\n",
    "    y = dataset['quality']\n",
    "\n",
    "    # ✅ Train-test split\n",
    "    X_train, X_test, y_train, y_test = train_test_split(X, y, test_size=0.25, random_state=42)\n",
    "\n",
    "    # ✅ Logistic regression model\n",
    "    lr = LogisticRegression(max_iter=1000)\n",
    "    lr.fit(X_train, y_train)\n",
    "\n",
    "    # ✅ Predict\n",
    "    y_pred = lr.predict(X_test)\n",
    "\n",
    "    # ✅ Evaluation\n",
    "    print(\"Model Coefficients:\", lr.coef_[0])\n",
    "    print(\"Intercept:\", lr.intercept_[0])\n",
    "    print(\"Accuracy:\", metrics.accuracy_score(y_test, y_pred))\n",
    "    print(\"Precision:\", metrics.precision_score(y_test, y_pred))\n",
    "    print(\"Recall:\", metrics.recall_score(y_test, y_pred))\n",
    "    print(\"F1 Score:\", metrics.f1_score(y_test, y_pred))\n",
    "# ✅ Add Statsmodels Summary Section\n",
    "    print(\"\\n📊 Statsmodels Summary:\")\n",
    "    X_sm = sm.add_constant(X_train)  # Add intercept manually\n",
    "    sm_model = sm.Logit(y_train, X_sm)\n",
    "    sm_result = sm_model.fit(disp=0)  # disp=0 turns off the fitting log\n",
    "    print(sm_result.summary())\n",
    "# ✅ Call the function for either 'white' or 'red'\n",
    "predict_quality('white')\n"
   ]
  },
  {
   "cell_type": "markdown",
   "id": "edad9f81",
   "metadata": {},
   "source": [
    "Excellent job, Space Wanderer! You've been using Logistic Regression to predict a binary outcome well. Now, let's hone your debugging skills.\n",
    "\n",
    "You have a computer program designed to predict wine quality from the Red Wine dataset using Logistic Regression. However, something seems off - the accuracy score does not reflect a proper Logistic Regression output. Can you dig deeper into the code and unearth the issue responsible for the unexpected output?\n",
    "\n",
    "Time to put your debugging helmet on!"
   ]
  },
  {
   "cell_type": "code",
   "execution_count": 8,
   "id": "35bc3898",
   "metadata": {},
   "outputs": [
    {
     "name": "stdout",
     "output_type": "stream",
     "text": [
      "Model Accuracy:  0.8645833333333334\n",
      "Model Precision:  0.53125\n",
      "Model Recall:  0.2537313432835821\n",
      "Model F1 Score:  0.3434343434343434\n"
     ]
    }
   ],
   "source": [
    "# Import necessary libraries\n",
    "from sklearn.model_selection import train_test_split\n",
    "from sklearn.linear_model import LogisticRegression\n",
    "from sklearn import metrics\n",
    "import datasets\n",
    "import pandas as pd\n",
    "\n",
    "# Load the dataset\n",
    "red_wine = pd.read_csv(r\"C:\\Users\\posit\\wine+quality\\winequality-red.csv\", delimiter=';')\n",
    "white_wine = pd.read_csv(r\"C:\\Users\\posit\\wine+quality\\winequality-white.csv\", delimiter=';')\n",
    "white_wine = pd.DataFrame(white_wine)\n",
    "red_wine = pd.DataFrame(red_wine)\n",
    "\n",
    "# Convert the multi-class problem to a binary one\n",
    "red_wine['quality'] = red_wine['quality'].apply(lambda x : 1 if x >= 7 else 0)\n",
    "\n",
    "# Split the dataset into features and target variable\n",
    "X = red_wine.drop('quality', axis=1)\n",
    "y = red_wine['quality']\n",
    "\n",
    "# Split the dataset into a training set and a test set\n",
    "X_train, X_test, y_train, y_test = train_test_split(X, y, test_size=0.3, random_state=42)\n",
    "\n",
    "# Create a Logistic Regression object with higher maximum iterations\n",
    "lr = LogisticRegression(max_iter=4000)\n",
    "\n",
    "# Train the model using the training sets\n",
    "lr.fit(X_train, y_train)\n",
    "\n",
    "# Make predictions on the test dataset\n",
    "y_pred = lr.predict(X_test)\n",
    "\n",
    "# Model Evaluation\n",
    "print(\"Model Accuracy: \", metrics.accuracy_score(y_test, y_pred))\n",
    "print(\"Model Precision: \", metrics.precision_score(y_test, y_pred))\n",
    "print(\"Model Recall: \", metrics.recall_score(y_test, y_pred))\n",
    "print(\"Model F1 Score: \", metrics.f1_score(y_test, y_pred))"
   ]
  },
  {
   "cell_type": "markdown",
   "id": "8b2e1b18",
   "metadata": {},
   "source": [
    "# Understanding Model Overfitting and Underfitting\n",
    "In machine learning, balance is crucial. If your model performs well on the training data but poorly on unseen data (such as validation and test datasets), it may be overfitting. This issue is similar to an attempt to ace a specific test by learning to copy all the answers without understanding the concepts, which leads to poor performance in other tests. This problem arises because the model learns the noise in the training data rather than the signal.\n",
    "\n",
    "Conversely, we have underfitting. An underfitted model performs poorly on both training and unseen data because it hasn't learned the underlying pattern of the data.\n",
    "\n",
    "In subsequent lessons, we will explore these concepts deeper and examine how to fine-tune our models to prevent overfitting and underfitting.\n",
    "\n"
   ]
  },
  {
   "cell_type": "markdown",
   "id": "239e6dde",
   "metadata": {},
   "source": [
    "Hey, Space Voyager, our Space HQ would like us to utilize different metrics in Python to evaluate this model's performance. The aim is to provide enlightenment about the potential disparities between the fitted (predicted) and actual value of house prices."
   ]
  },
  {
   "cell_type": "code",
   "execution_count": 1,
   "id": "74d419aa",
   "metadata": {},
   "outputs": [
    {
     "name": "stdout",
     "output_type": "stream",
     "text": [
      "Mean Absolute Error (MAE): 8333.333333333334\n",
      "Mean Squared Error (MSE): 75000000.0\n",
      "Root Mean Squared Error (RMSE): 8660.254037844386\n",
      "R-squared: 0.9893951296150825\n"
     ]
    }
   ],
   "source": [
    "from sklearn import metrics\n",
    "import numpy as np\n",
    "\n",
    "# Suppose we have a model that predicts the price of houses based on various features\n",
    "# Here, fitted and actual are numpy arrays containing the predicted and real values for house prices, respectively\n",
    "fitted = np.array([200000, 300000, 400000])\n",
    "actual = np.array([190000, 310000, 395000])\n",
    "\n",
    "# For calculating MAE, pass the actual and fitted arrays to mean_absolute_error()\n",
    "mae = metrics.mean_absolute_error(actual, fitted)\n",
    "print(f\"Mean Absolute Error (MAE): {mae}\")\n",
    "\n",
    "# MSE is calculated by passing the actual and fitted arrays to mean_squared_error()\n",
    "mse = metrics.mean_squared_error(actual, fitted)\n",
    "print(f\"Mean Squared Error (MSE): {mse}\")\n",
    "\n",
    "# RMSE is just the square root of MSE\n",
    "rmse = np.sqrt(mse)\n",
    "print(f\"Root Mean Squared Error (RMSE): {rmse}\")\n",
    "\n",
    "# R-square value is calculated with r2_score function\n",
    "r2 = metrics.r2_score(actual, fitted)\n",
    "print(f\"R-squared: {r2}\")"
   ]
  },
  {
   "cell_type": "markdown",
   "id": "167d3332",
   "metadata": {},
   "source": [
    "Good job, space trooper! You've successfully executed your first evaluation program. However, let's make it a bit more robust. The given starter code currently bins wine as 'good' or 'not good' by the median, which could be biased. Missions may require us to assess not just the 'good' ones but the 'excellent' ones. Could you modify the code to classify the top 25% of wines as 'excellent' instead of good and assess the model's performance?\n",
    "\n",
    "Ready? Let's boldly go where no man has gone before!"
   ]
  },
  {
   "cell_type": "code",
   "execution_count": 1,
   "id": "ce2d0e62",
   "metadata": {},
   "outputs": [
    {
     "name": "stdout",
     "output_type": "stream",
     "text": [
      "Accuracy:  0.7354\n",
      "Precision: 0.6886\n",
      "Recall:    0.7371\n",
      "F1 Score:  0.7120\n",
      "AUC-ROC:   0.8006\n"
     ]
    }
   ],
   "source": [
    "import pandas as pd\n",
    "import numpy as np\n",
    "from sklearn.model_selection import train_test_split\n",
    "from sklearn.preprocessing import LabelEncoder, StandardScaler\n",
    "from sklearn.linear_model import LogisticRegression\n",
    "from sklearn import metrics\n",
    "import datasets\n",
    "\n",
    "# Load the Red Wine Quality Data\n",
    "#wine = datasets.load_dataset('codesignal/wine-quality', split='red', trust_remote_code=True)\n",
    "#wine = pd.DataFrame(wine)\n",
    "\n",
    "# Load the dataset\n",
    "red_wine = pd.read_csv(r\"C:\\Users\\posit\\wine+quality\\winequality-red.csv\", delimiter=';')\n",
    "white_wine = pd.read_csv(r\"C:\\Users\\posit\\wine+quality\\winequality-white.csv\", delimiter=';')\n",
    "white_wine = pd.DataFrame(white_wine)\n",
    "wine = pd.DataFrame(red_wine)\n",
    "\n",
    "# ✅ Transform the quality column: Top 25% → 'excellent', rest → 'not excellent'\n",
    "threshold = wine['quality'].quantile(0.75)\n",
    "wine['quality'] = np.where(wine['quality'] >= threshold, 'excellent', 'not excellent')\n",
    "\n",
    "# ✅ Encode 'excellent' as 1, 'not excellent' as 0\n",
    "le = LabelEncoder()\n",
    "wine['quality'] = le.fit_transform(wine['quality'])\n",
    "\n",
    "# ✅ Separate features and target\n",
    "X = wine.drop('quality', axis=1)\n",
    "y = wine['quality']\n",
    "\n",
    "# ✅ Split dataset\n",
    "X_train, X_test, y_train, y_test = train_test_split(X, y, test_size=0.3, random_state=42)\n",
    "\n",
    "# ✅ Scale features\n",
    "scaler = StandardScaler()\n",
    "X_train = scaler.fit_transform(X_train)\n",
    "X_test = scaler.transform(X_test)\n",
    "\n",
    "# ✅ Train model\n",
    "model = LogisticRegression(max_iter=1000)\n",
    "model.fit(X_train, y_train)\n",
    "\n",
    "# ✅ Predict\n",
    "y_pred = model.predict(X_test)\n",
    "y_proba = model.predict_proba(X_test)[:, 1]\n",
    "\n",
    "# ✅ Evaluate\n",
    "print(f\"Accuracy:  {metrics.accuracy_score(y_test, y_pred):.4f}\")\n",
    "print(f\"Precision: {metrics.precision_score(y_test, y_pred):.4f}\")\n",
    "print(f\"Recall:    {metrics.recall_score(y_test, y_pred):.4f}\")\n",
    "print(f\"F1 Score:  {metrics.f1_score(y_test, y_pred):.4f}\")\n",
    "print(f\"AUC-ROC:   {metrics.roc_auc_score(y_test, y_proba):.4f}\")\n"
   ]
  },
  {
   "cell_type": "markdown",
   "id": "99140e59",
   "metadata": {},
   "source": [
    "Brilliant work, space explorer! Let's move forward on our way to exploring machine-learning model metrics. Let's try some new dataset, shall we?\n",
    "\n",
    "Given the California Housing Dataset, can you calculate the evaluation metrics for assessing logistic regression models from the above code where we predict whether the house price is above or below the median price?\n",
    "\n",
    "Let's get started!"
   ]
  },
  {
   "cell_type": "code",
   "execution_count": 2,
   "id": "fb422c4b",
   "metadata": {},
   "outputs": [
    {
     "name": "stdout",
     "output_type": "stream",
     "text": [
      "Evaluation Metrics on Training Data:\n",
      "Accuracy: 0.8075096899224806\n",
      "Precision: 0.8139350752177356\n",
      "Recall: 0.7971309489192595\n",
      "F1 Score: 0.8054453748592135\n",
      "AUC-ROC: 0.8879814444729226\n",
      "\n",
      "5-Fold Cross-Validation Accuracy Scores: [0.80741279 0.77131783 0.80087209 0.71124031 0.81734496]\n",
      "Average CV Accuracy: 0.7816375968992247\n"
     ]
    }
   ],
   "source": [
    "from sklearn.model_selection import cross_val_score, cross_val_predict\n",
    "from sklearn.datasets import fetch_california_housing\n",
    "from sklearn.linear_model import LogisticRegression\n",
    "from sklearn import metrics\n",
    "import numpy as np\n",
    "\n",
    "# Load the California Housing Dataset\n",
    "california_data = fetch_california_housing()\n",
    "X = california_data.data\n",
    "# Create binary target: 1 if price above median, 0 otherwise\n",
    "Y = (california_data.target > np.median(california_data.target)).astype(int)\n",
    "\n",
    "# Instantiate the Logistic Regression Model\n",
    "model = LogisticRegression(max_iter=1000)\n",
    "\n",
    "# Fit the Model\n",
    "model.fit(X, Y)\n",
    "\n",
    "# Make predictions on the same dataset\n",
    "Y_pred = model.predict(X)\n",
    "Y_proba = model.predict_proba(X)[:, 1]  # Probabilities for AUC\n",
    "\n",
    "# Compute the evaluation metrics\n",
    "print(\"Evaluation Metrics on Training Data:\")\n",
    "print(\"Accuracy:\", metrics.accuracy_score(Y, Y_pred))\n",
    "print(\"Precision:\", metrics.precision_score(Y, Y_pred))\n",
    "print(\"Recall:\", metrics.recall_score(Y, Y_pred))\n",
    "print(\"F1 Score:\", metrics.f1_score(Y, Y_pred))\n",
    "print(\"AUC-ROC:\", metrics.roc_auc_score(Y, Y_proba))\n",
    "\n",
    "# Perform 5-fold Cross-Validation and print the average\n",
    "cv_scores = cross_val_score(model, X, Y, cv=5, scoring='accuracy')\n",
    "print(\"\\n5-Fold Cross-Validation Accuracy Scores:\", cv_scores)\n",
    "print(\"Average CV Accuracy:\", np.mean(cv_scores))\n"
   ]
  },
  {
   "cell_type": "code",
   "execution_count": 3,
   "id": "9d72e2c4",
   "metadata": {},
   "outputs": [
    {
     "name": "stdout",
     "output_type": "stream",
     "text": [
      "\n",
      "--- Evaluating with test size = 20% ---\n",
      "Accuracy: 0.8013565891472868\n",
      "Precision: 0.8072890664003994\n",
      "Recall: 0.78839590443686\n",
      "F1 Score: 0.7977306364084854\n",
      "AUC-ROC: 0.8805047598233491\n",
      "\n",
      "--- Evaluating with test size = 30% ---\n",
      "Accuracy: 0.7995801033591732\n",
      "Precision: 0.8124169986719787\n",
      "Recall: 0.7835414665385847\n",
      "F1 Score: 0.7977180114099429\n",
      "AUC-ROC: 0.8817043624765728\n",
      "\n",
      "--- Evaluating with test size = 40% ---\n",
      "Accuracy: 0.8034156976744186\n",
      "Precision: 0.8161746464897048\n",
      "Recall: 0.7885906040268457\n",
      "F1 Score: 0.8021455565037181\n",
      "AUC-ROC: 0.883946061284455\n"
     ]
    }
   ],
   "source": [
    "from sklearn.datasets import fetch_california_housing\n",
    "from sklearn.linear_model import LogisticRegression\n",
    "from sklearn import metrics\n",
    "from sklearn.model_selection import train_test_split\n",
    "import numpy as np\n",
    "\n",
    "# Load the California Housing Dataset and transform it into a binary classification problem\n",
    "california_data = fetch_california_housing()\n",
    "X = california_data.data\n",
    "Y = (california_data.target > np.median(california_data.target)).astype(int)\n",
    "\n",
    "def run_logistic_regression(test_size):\n",
    "    print(f\"\\n--- Evaluating with test size = {int(test_size * 100)}% ---\")\n",
    "\n",
    "    # Split the data into training and test sets\n",
    "    X_train, X_test, y_train, y_test = train_test_split(X, Y, test_size=test_size, random_state=42)\n",
    "\n",
    "    # Instantiate and train the Logistic Regression Model\n",
    "    lg = LogisticRegression(max_iter=1000)\n",
    "    lg.fit(X_train, y_train)\n",
    "\n",
    "    # Make predictions on the test set\n",
    "    prediction = lg.predict(X_test)\n",
    "    y_proba = lg.predict_proba(X_test)[:, 1]  # Only test set, not full X\n",
    "\n",
    "    # Print metrics for evaluation\n",
    "    print(\"Accuracy:\", metrics.accuracy_score(y_test, prediction))\n",
    "    print(\"Precision:\", metrics.precision_score(y_test, prediction))\n",
    "    print(\"Recall:\", metrics.recall_score(y_test, prediction))\n",
    "    print(\"F1 Score:\", metrics.f1_score(y_test, prediction))\n",
    "    print(\"AUC-ROC:\", metrics.roc_auc_score(y_test, y_proba))\n",
    "\n",
    "# Test the Logistic Regression model with different test set sizes\n",
    "for size in [0.2, 0.3, 0.4]:\n",
    "    run_logistic_regression(test_size=size)\n"
   ]
  },
  {
   "cell_type": "markdown",
   "id": "96b07f31",
   "metadata": {},
   "source": [
    "# feature selection"
   ]
  },
  {
   "cell_type": "markdown",
   "id": "a4e4e0bb",
   "metadata": {},
   "source": [
    "feature selection, is crucial for creating efficient and effective machine learning models. By understanding which features provide the most informative insights for our target prediction, we can simplify our models, accelerate their processing, and enhance their interpretability, all while maintaining or improving their predictive power. With the skills you will learn today if we were given an incomplete new wine sample, we could still make an accurate quality prediction based solely on the most predictive features.\n",
    "\n",
    "Today's exploration will focus on correlation analysis to identify these features. Along the way, we'll use various libraries in Python, including pandas and SciPy, and we'll gain hands-on experience with practical examples and visualizations."
   ]
  },
  {
   "cell_type": "markdown",
   "id": "6514b9af",
   "metadata": {},
   "source": [
    "🔍 Feature Selection – Made Easy\n",
    "When building a machine learning model, we don’t always need all the columns (features). Some may be unhelpful or even hurt model performance. Feature selection helps us choose the most useful features. There are three main ways to do this:\n",
    "\n",
    "1️⃣ Filter Methods\n",
    "These are simple and fast.\n",
    "\n",
    "Think of them as filters that score each feature based on how strongly it relates to the target.\n",
    "\n",
    "We remove features with low scores before training the model.\n",
    "\n",
    "Examples:\n",
    "\n",
    "Chi-square test\n",
    "\n",
    "Correlation coefficient\n",
    "\n",
    "Fisher score\n",
    "\n",
    "🧠 When to use: As a quick first step when you have a lot of features.\n",
    "\n",
    "2️⃣ Wrapper Methods\n",
    "These methods test different combinations of features by actually training models on them.\n",
    "\n",
    "They \"wrap\" the feature selection process around the model training.\n",
    "\n",
    "More accurate, but slower than filter methods.\n",
    "\n",
    "Examples:\n",
    "\n",
    "Recursive Feature Elimination (RFE)\n",
    "\n",
    "Forward Selection\n",
    "\n",
    "Backward Elimination\n",
    "\n",
    "🧠 When to use: When accuracy matters more than speed and you have a manageable number of features.\n",
    "\n",
    "3️⃣ Embedded Methods\n",
    "These methods build feature selection into the model itself.\n",
    "\n",
    "They balance speed and accuracy well.\n",
    "\n",
    "Models choose the best features during training.\n",
    "\n",
    "Examples:\n",
    "\n",
    "LASSO (L1 regularization)\n",
    "\n",
    "RIDGE (L2 regularization)\n",
    "\n",
    "🧠 When to use: When you want feature selection done automatically during model training.\n",
    "\n",
    "🧪 In this lesson:\n",
    "We’ll look more closely at correlation, a type of filter method, and learn how it helps pick features that are most predictive of the target.\n",
    "\n",
    "Let me know if you’d like a simple visual for this too!"
   ]
  },
  {
   "cell_type": "markdown",
   "id": "0bf2e1c8",
   "metadata": {},
   "source": [
    "Great work! You've already understood the theory, but how about a real-life challenge?\n",
    "\n",
    "Have you ever wondered about the correlation between 'pH' and 'fixed acidity' in our interstellar wine? A strong correlation might indicate a powerful influence of one feature on the other.\n",
    "\n",
    "Simply press the Run button to see the magic unfold. It's time to explore!"
   ]
  },
  {
   "cell_type": "code",
   "execution_count": 2,
   "id": "6e78520b",
   "metadata": {},
   "outputs": [
    {
     "name": "stdout",
     "output_type": "stream",
     "text": [
      "\n",
      "The correlation of 'fixed acidity' with 'pH' is -0.683\n",
      "\n"
     ]
    },
    {
     "data": {
      "image/png": "[encoded data removed]",
      "text/plain": [
       "<Figure size 576x288 with 1 Axes>"
      ]
     },
     "metadata": {
      "needs_background": "light"
     },
     "output_type": "display_data"
    }
   ],
   "source": [
    "# Import necessary libraries\n",
    "import pandas as pd\n",
    "import seaborn as sns\n",
    "import matplotlib.pyplot as plt\n",
    "import datasets\n",
    "\n",
    "# Load the Wine Quality Dataset\n",
    "#red_wine = datasets.load_dataset('codesignal/wine-quality', split='red', trust_remote_code=True)\n",
    "#red_wine_df = pd.DataFrame(red_wine)\n",
    "\n",
    "# Load the dataset\n",
    "red_wine = pd.read_csv(r\"C:\\Users\\posit\\wine+quality\\winequality-red.csv\", delimiter=';')\n",
    "white_wine = pd.read_csv(r\"C:\\Users\\posit\\wine+quality\\winequality-white.csv\", delimiter=';')\n",
    "white_wine = pd.DataFrame(white_wine)\n",
    "red_wine_df = pd.DataFrame(red_wine)\n",
    "\n",
    "# Let's look at two features: 'pH' and 'fixed acidity'\n",
    "# Calculate 'pH' against 'fixed acidity' to find out its correlation\n",
    "feature_corr = red_wine_df['pH'].corr(red_wine_df['fixed acidity'])\n",
    "\n",
    "# Print the correlation\n",
    "print(\"\\nThe correlation of 'fixed acidity' with 'pH' is %.3f\\n\" % (feature_corr))\n",
    "\n",
    "# Display the correlation graphically via a scatter plot\n",
    "plt.figure(figsize=(8,4))\n",
    "sns.scatterplot(x='fixed acidity', y='pH', data=red_wine_df, hue='quality')\n",
    "plt.title('Scatterplot showing correlation between \\'pH\\' and \\'Fixed Acidity\\'')\n",
    "plt.show()"
   ]
  },
  {
   "cell_type": "markdown",
   "id": "b575eead",
   "metadata": {},
   "source": [
    "reat work on completing the previous exercise! Now, let's keep the momentum going.\n",
    "\n",
    "The provided starter code analyzes the correlation between 'alcohol' and 'quality'. However, what if we are interested in analyzing the correlation between 'density' and 'quality'?\n",
    "\n",
    "Your task is to modify the code to accomplish this. Ready, set, go!\n",
    "\n",
    "Cosmo\n",
    "Just now"
   ]
  },
  {
   "cell_type": "code",
   "execution_count": 4,
   "id": "72850cda",
   "metadata": {},
   "outputs": [
    {
     "name": "stdout",
     "output_type": "stream",
     "text": [
      "\n",
      "The correlation of 'alcohol' with 'Quality' is -0.175\n",
      "\n"
     ]
    },
    {
     "data": {
      "image/png": "[encoded data removed]",
      "text/plain": [
       "<Figure size 576x288 with 1 Axes>"
      ]
     },
     "metadata": {
      "needs_background": "light"
     },
     "output_type": "display_data"
    }
   ],
   "source": [
    "# Import necessary libraries\n",
    "import pandas as pd\n",
    "import seaborn as sns\n",
    "import matplotlib.pyplot as plt\n",
    "import datasets\n",
    "\n",
    "# Load the Wine Quality Dataset\n",
    "#red_wine = datasets.load_dataset('codesignal/wine-quality', split='red', trust_remote_code=True)\n",
    "#red_wine_df = pd.DataFrame(red_wine)\n",
    "\n",
    "# Load the dataset\n",
    "red_wine = pd.read_csv(r\"C:\\Users\\posit\\wine+quality\\winequality-red.csv\", delimiter=';')\n",
    "white_wine = pd.read_csv(r\"C:\\Users\\posit\\wine+quality\\winequality-white.csv\", delimiter=';')\n",
    "white_wine = pd.DataFrame(white_wine)\n",
    "red_wine_df = pd.DataFrame(red_wine)\n",
    "\n",
    "# Calculate 'alcohol' against 'quality' to find out its correlation\n",
    "feature_corr = red_wine_df['quality'].corr(red_wine_df['density'])\n",
    "\n",
    "# Print the correlation\n",
    "print(\"\\nThe correlation of 'alcohol' with 'Quality' is %.3f\\n\" % (feature_corr))\n",
    "\n",
    "# Display the correlation graphically via a scatter plot\n",
    "plt.figure(figsize=(8,4))\n",
    "sns.scatterplot(x='density', y='quality', data=red_wine_df)\n",
    "plt.title('Scatterplot showing correlation between \\'Quality\\' and \\'Alcohol\\'')\n",
    "plt.show()"
   ]
  },
  {
   "cell_type": "markdown",
   "id": "66d50f51",
   "metadata": {},
   "source": [
    "Great work exploring correlation matrices so far, Voyager! Now, let's focus on debugging skills.\n",
    "\n",
    "Imagine you are a data scientist at an interstellar winery. Your task is to determine the factors that can predict the quality of the wine being produced.\n",
    "\n",
    "You're supposed to calculate a correlation matrix to investigate how your wine's quality relates to its different attributes.\n",
    "\n",
    "There's an issue with the current output, which doesn't seem to be helping you answer the question. Can you find and fix it? Ready... Steady... Debug!"
   ]
  },
  {
   "cell_type": "code",
   "execution_count": 6,
   "id": "6a257690",
   "metadata": {},
   "outputs": [
    {
     "name": "stdout",
     "output_type": "stream",
     "text": [
      "                      fixed acidity  volatile acidity  citric acid  \\\n",
      "fixed acidity              1.000000         -0.256131     0.671703   \n",
      "volatile acidity          -0.256131          1.000000    -0.552496   \n",
      "citric acid                0.671703         -0.552496     1.000000   \n",
      "residual sugar             0.114777          0.001918     0.143577   \n",
      "chlorides                  0.093705          0.061298     0.203823   \n",
      "free sulfur dioxide       -0.153794         -0.010504    -0.060978   \n",
      "total sulfur dioxide      -0.113181          0.076470     0.035533   \n",
      "density                    0.668047          0.022026     0.364947   \n",
      "pH                        -0.682978          0.234937    -0.541904   \n",
      "sulphates                  0.183006         -0.260987     0.312770   \n",
      "alcohol                   -0.061668         -0.202288     0.109903   \n",
      "quality                    0.124052         -0.390558     0.226373   \n",
      "\n",
      "                      residual sugar  chlorides  free sulfur dioxide  \\\n",
      "fixed acidity               0.114777   0.093705            -0.153794   \n",
      "volatile acidity            0.001918   0.061298            -0.010504   \n",
      "citric acid                 0.143577   0.203823            -0.060978   \n",
      "residual sugar              1.000000   0.055610             0.187049   \n",
      "chlorides                   0.055610   1.000000             0.005562   \n",
      "free sulfur dioxide         0.187049   0.005562             1.000000   \n",
      "total sulfur dioxide        0.203028   0.047400             0.667666   \n",
      "density                     0.355283   0.200632            -0.021946   \n",
      "pH                         -0.085652  -0.265026             0.070377   \n",
      "sulphates                   0.005527   0.371260             0.051658   \n",
      "alcohol                     0.042075  -0.221141            -0.069408   \n",
      "quality                     0.013732  -0.128907            -0.050656   \n",
      "\n",
      "                      total sulfur dioxide   density        pH  sulphates  \\\n",
      "fixed acidity                    -0.113181  0.668047 -0.682978   0.183006   \n",
      "volatile acidity                  0.076470  0.022026  0.234937  -0.260987   \n",
      "citric acid                       0.035533  0.364947 -0.541904   0.312770   \n",
      "residual sugar                    0.203028  0.355283 -0.085652   0.005527   \n",
      "chlorides                         0.047400  0.200632 -0.265026   0.371260   \n",
      "free sulfur dioxide               0.667666 -0.021946  0.070377   0.051658   \n",
      "total sulfur dioxide              1.000000  0.071269 -0.066495   0.042947   \n",
      "density                           0.071269  1.000000 -0.341699   0.148506   \n",
      "pH                               -0.066495 -0.341699  1.000000  -0.196648   \n",
      "sulphates                         0.042947  0.148506 -0.196648   1.000000   \n",
      "alcohol                          -0.205654 -0.496180  0.205633   0.093595   \n",
      "quality                          -0.185100 -0.174919 -0.057731   0.251397   \n",
      "\n",
      "                       alcohol   quality  \n",
      "fixed acidity        -0.061668  0.124052  \n",
      "volatile acidity     -0.202288 -0.390558  \n",
      "citric acid           0.109903  0.226373  \n",
      "residual sugar        0.042075  0.013732  \n",
      "chlorides            -0.221141 -0.128907  \n",
      "free sulfur dioxide  -0.069408 -0.050656  \n",
      "total sulfur dioxide -0.205654 -0.185100  \n",
      "density              -0.496180 -0.174919  \n",
      "pH                    0.205633 -0.057731  \n",
      "sulphates             0.093595  0.251397  \n",
      "alcohol               1.000000  0.476166  \n",
      "quality               0.476166  1.000000  \n",
      "Correlation coefficients for 'Quality' with other attributes:\n",
      "alcohol                 0.476166\n",
      "sulphates               0.251397\n",
      "citric acid             0.226373\n",
      "fixed acidity           0.124052\n",
      "residual sugar          0.013732\n",
      "free sulfur dioxide    -0.050656\n",
      "pH                     -0.057731\n",
      "chlorides              -0.128907\n",
      "density                -0.174919\n",
      "total sulfur dioxide   -0.185100\n",
      "volatile acidity       -0.390558\n",
      "Name: quality, dtype: float64\n"
     ]
    },
    {
     "data": {
      "image/png": "[encoded data removed]",
      "text/plain": [
       "<Figure size 576x432 with 2 Axes>"
      ]
     },
     "metadata": {
      "needs_background": "light"
     },
     "output_type": "display_data"
    }
   ],
   "source": [
    "# Necessary Libraries \n",
    "import pandas as pd\n",
    "import seaborn as sns\n",
    "import matplotlib.pyplot as plt\n",
    "import datasets\n",
    "\n",
    "# Load the Wine Quality dataset\n",
    "#red_wine = datasets.load_dataset('codesignal/wine-quality', split='red', trust_remote_code=True)\n",
    "#red_wine_df = pd.DataFrame(red_wine)\n",
    "# Load the dataset\n",
    "red_wine = pd.read_csv(r\"C:\\Users\\posit\\wine+quality\\winequality-red.csv\", delimiter=';')\n",
    "white_wine = pd.read_csv(r\"C:\\Users\\posit\\wine+quality\\winequality-white.csv\", delimiter=';')\n",
    "white_wine = pd.DataFrame(white_wine)\n",
    "red_wine_df = pd.DataFrame(red_wine)\n",
    "\n",
    "# Compute full correlation matrix\n",
    "corr_matrix = red_wine_df.corr()\n",
    "print(corr_matrix)\n",
    "# Focus only on 'quality', sorted\n",
    "corr_quality = corr_matrix['quality'].drop('quality').sort_values(ascending=False)\n",
    "\n",
    "# Print correlation of 'quality' with other features\n",
    "print(\"Correlation coefficients for 'Quality' with other attributes:\")\n",
    "print(corr_quality)\n",
    "\n",
    "# Plot heatmap for just 'quality' vs other features\n",
    "plt.figure(figsize=(8, 6))\n",
    "sns.heatmap(corr_quality.to_frame(), annot=True, cmap='coolwarm', cbar=True)\n",
    "plt.title('Correlation with Wine Quality')\n",
    "plt.xlabel('Correlation')\n",
    "plt.ylabel('Features')\n",
    "plt.tight_layout()\n",
    "plt.show()\n"
   ]
  },
  {
   "cell_type": "code",
   "execution_count": 11,
   "id": "5c1abac2",
   "metadata": {},
   "outputs": [
    {
     "name": "stdout",
     "output_type": "stream",
     "text": [
      "                      fixed acidity  volatile acidity  citric acid  \\\n",
      "fixed acidity                  1.00             -0.26         0.67   \n",
      "volatile acidity              -0.26              1.00        -0.55   \n",
      "citric acid                    0.67             -0.55         1.00   \n",
      "residual sugar                 0.11              0.00         0.14   \n",
      "chlorides                      0.09              0.06         0.20   \n",
      "free sulfur dioxide           -0.15             -0.01        -0.06   \n",
      "total sulfur dioxide          -0.11              0.08         0.04   \n",
      "density                        0.67              0.02         0.36   \n",
      "pH                            -0.68              0.23        -0.54   \n",
      "sulphates                      0.18             -0.26         0.31   \n",
      "alcohol                       -0.06             -0.20         0.11   \n",
      "quality                        0.12             -0.39         0.23   \n",
      "\n",
      "                      residual sugar  chlorides  free sulfur dioxide  \\\n",
      "fixed acidity                   0.11       0.09                -0.15   \n",
      "volatile acidity                0.00       0.06                -0.01   \n",
      "citric acid                     0.14       0.20                -0.06   \n",
      "residual sugar                  1.00       0.06                 0.19   \n",
      "chlorides                       0.06       1.00                 0.01   \n",
      "free sulfur dioxide             0.19       0.01                 1.00   \n",
      "total sulfur dioxide            0.20       0.05                 0.67   \n",
      "density                         0.36       0.20                -0.02   \n",
      "pH                             -0.09      -0.27                 0.07   \n",
      "sulphates                       0.01       0.37                 0.05   \n",
      "alcohol                         0.04      -0.22                -0.07   \n",
      "quality                         0.01      -0.13                -0.05   \n",
      "\n",
      "                      total sulfur dioxide  density    pH  sulphates  alcohol  \\\n",
      "fixed acidity                        -0.11     0.67 -0.68       0.18    -0.06   \n",
      "volatile acidity                      0.08     0.02  0.23      -0.26    -0.20   \n",
      "citric acid                           0.04     0.36 -0.54       0.31     0.11   \n",
      "residual sugar                        0.20     0.36 -0.09       0.01     0.04   \n",
      "chlorides                             0.05     0.20 -0.27       0.37    -0.22   \n",
      "free sulfur dioxide                   0.67    -0.02  0.07       0.05    -0.07   \n",
      "total sulfur dioxide                  1.00     0.07 -0.07       0.04    -0.21   \n",
      "density                               0.07     1.00 -0.34       0.15    -0.50   \n",
      "pH                                   -0.07    -0.34  1.00      -0.20     0.21   \n",
      "sulphates                             0.04     0.15 -0.20       1.00     0.09   \n",
      "alcohol                              -0.21    -0.50  0.21       0.09     1.00   \n",
      "quality                              -0.19    -0.17 -0.06       0.25     0.48   \n",
      "\n",
      "                      quality  \n",
      "fixed acidity            0.12  \n",
      "volatile acidity        -0.39  \n",
      "citric acid              0.23  \n",
      "residual sugar           0.01  \n",
      "chlorides               -0.13  \n",
      "free sulfur dioxide     -0.05  \n",
      "total sulfur dioxide    -0.19  \n",
      "density                 -0.17  \n",
      "pH                      -0.06  \n",
      "sulphates                0.25  \n",
      "alcohol                  0.48  \n",
      "quality                  1.00  \n",
      "volatile acidity       -0.390558\n",
      "total sulfur dioxide   -0.185100\n",
      "density                -0.174919\n",
      "chlorides              -0.128907\n",
      "pH                     -0.057731\n",
      "free sulfur dioxide    -0.050656\n",
      "residual sugar          0.013732\n",
      "fixed acidity           0.124052\n",
      "citric acid             0.226373\n",
      "sulphates               0.251397\n",
      "alcohol                 0.476166\n",
      "Name: quality, dtype: float64\n",
      "['volatile acidity', 'total sulfur dioxide', 'sulphates', 'alcohol']\n",
      "['volatile acidity', 'total sulfur dioxide', 'sulphates', 'alcohol', 'quality']\n"
     ]
    },
    {
     "data": {
      "image/png": "[encoded data removed]",
      "text/plain": [
       "<Figure size 576x432 with 2 Axes>"
      ]
     },
     "metadata": {
      "needs_background": "light"
     },
     "output_type": "display_data"
    }
   ],
   "source": [
    "# Necessary Libraries \n",
    "import pandas as pd\n",
    "import seaborn as sns\n",
    "import matplotlib.pyplot as plt\n",
    "import datasets\n",
    "\n",
    "# Load the Wine Quality dataset\n",
    "#red_wine = datasets.load_dataset('codesignal/wine-quality', split='red', trust_remote_code=True)\n",
    "#red_wine_df = pd.DataFrame(red_wine)\n",
    "# Load the dataset\n",
    "red_wine = pd.read_csv(r\"C:\\Users\\posit\\wine+quality\\winequality-red.csv\", delimiter=';')\n",
    "white_wine = pd.read_csv(r\"C:\\Users\\posit\\wine+quality\\winequality-white.csv\", delimiter=';')\n",
    "white_wine = pd.DataFrame(white_wine)\n",
    "red_wine_df = pd.DataFrame(red_wine)\n",
    "\n",
    "# Compute the correlation matrix\n",
    "corr_matrix = red_wine_df.corr()\n",
    "\n",
    "# Round to 2 decimal places for easier reading (optional)\n",
    "print(corr_matrix.round(2))\n",
    "\n",
    "# Focus only on correlation with 'quality' and sort it\n",
    "corr_quality = corr_matrix['quality'].drop('quality').sort_values()\n",
    "print(corr_quality)\n",
    "# Find the top 2 most negative and top 2 most positive correlated features\n",
    "top_negative = corr_quality.head(2)\n",
    "top_positive = corr_quality.tail(2)\n",
    "\n",
    "# Combine both\n",
    "top_features = pd.concat([top_negative, top_positive]).index.tolist()\n",
    "print(top_features)\n",
    "# Add 'quality' itself for the heatmap\n",
    "selected_features = top_features + ['quality']\n",
    "print(selected_features)\n",
    "# Draw the heatmap for these features\n",
    "plt.figure(figsize=(8, 6))\n",
    "sns.heatmap(red_wine_df[selected_features].corr(), annot=True, cmap='coolwarm', vmin=-1, vmax=1)\n",
    "plt.title('Heatmap: Wine Quality vs Most Correlated Features')\n",
    "plt.show()\n"
   ]
  },
  {
   "cell_type": "markdown",
   "id": "e4c3dda5",
   "metadata": {},
   "source": [
    "Great work so far, Space Voyager! You've officially arrived at your final challenge for this topic. It's showtime - you'll write code from scratch, using all the knowledge and skills you acquired during the lesson.\n",
    "\n",
    "Make use of the Wine Quality dataset and ascertain how the fixed acidity feature influences the quality of the wine. To achieve this, compute their correlation coefficient and visualize it using a scatter plot.\n",
    "\n",
    "The starter code includes TODO comments to guide you. It’s time to take off and fly solo! Can you do it?"
   ]
  },
  {
   "cell_type": "code",
   "execution_count": 13,
   "id": "325d3f6d",
   "metadata": {},
   "outputs": [
    {
     "name": "stdout",
     "output_type": "stream",
     "text": [
      "The correlation between 'fixed acidity' and 'quality' is: 0.124\n"
     ]
    },
    {
     "data": {
      "image/png": "[encoded data removed]",
      "text/plain": [
       "<Figure size 432x288 with 1 Axes>"
      ]
     },
     "metadata": {
      "needs_background": "light"
     },
     "output_type": "display_data"
    }
   ],
   "source": [
    "# Import necessary libraries\n",
    "import seaborn as sns\n",
    "import matplotlib.pyplot as plt\n",
    "import pandas as pd\n",
    "import datasets\n",
    "\n",
    "# Load the Wine Quality Dataset\n",
    "#red_wine = datasets.load_dataset('codesignal/wine-quality', split='red', trust_remote_code=True)\n",
    "#red_wine_df = pd.DataFrame(red_wine)\n",
    "\n",
    "red_wine = pd.read_csv(r\"C:\\Users\\posit\\wine+quality\\winequality-red.csv\", delimiter=';')\n",
    "white_wine = pd.read_csv(r\"C:\\Users\\posit\\wine+quality\\winequality-white.csv\", delimiter=';')\n",
    "white_wine = pd.DataFrame(white_wine)\n",
    "red_wine_df = pd.DataFrame(red_wine)\n",
    "\n",
    "# Identify the feature to be analyzed\n",
    "feature = 'fixed acidity'\n",
    "\n",
    "# Calculate the correlation of 'fixed acidity' with the 'quality' of the wine\n",
    "corr_fixed_acidity = red_wine_df[feature].corr(red_wine_df['quality'])\n",
    "\n",
    "# Print the correlation \n",
    "print(f\"The correlation between '{feature}' and 'quality' is: {corr_fixed_acidity:.3f}\")\n",
    "\n",
    "# Display the correlation graphically using a scatter plot\n",
    "sns.scatterplot(x=feature, y='quality', data=red_wine_df)\n",
    "plt.title(f\"Scatterplot: '{feature}' vs 'quality'\\nCorrelation = {corr_fixed_acidity:.3f}\")\n",
    "plt.xlabel(feature)\n",
    "plt.ylabel('quality')\n",
    "plt.show()\n"
   ]
  },
  {
   "cell_type": "code",
   "execution_count": null,
   "id": "7374f424",
   "metadata": {},
   "outputs": [],
   "source": [
    "from sklearn.datasets import make_classification\n",
    "from sklearn.model_selection import train_test_split\n",
    "from sklearn.ensemble import RandomForestClassifier\n",
    "from sklearn.metrics import classification_report\n",
    "from imblearn.over_sampling import SMOTE\n",
    "import pandas as pd\n",
    "\n",
    "# 1. Create an imbalanced dataset\n",
    "X, y = make_classification(n_samples=1000, n_features=5, weights=[0.9, 0.1], random_state=42)\n",
    "\n",
    "# Check class balance\n",
    "print(\"Before SMOTE:\", pd.Series(y).value_counts())\n",
    "\n",
    "# 2. Split into training and testing\n",
    "X_train, X_test, y_train, y_test = train_test_split(X, y, test_size=0.2, random_state=42)\n",
    "\n",
    "# 3. Apply SMOTE to training data\n",
    "smote = SMOTE(random_state=42)\n",
    "X_resampled, y_resampled = smote.fit_resample(X_train, y_train)\n",
    "\n",
    "print(\"After SMOTE:\", pd.Series(y_resampled).value_counts())\n",
    "\n",
    "# 4. Train a model\n",
    "model = RandomForestClassifier()\n",
    "model.fit(X_resampled, y_resampled)\n",
    "\n",
    "# 5. Predict and evaluate\n",
    "y_pred = model.predict(X_test)\n",
    "print(classification_report(y_test, y_pred))\n"
   ]
  },
  {
   "cell_type": "code",
   "execution_count": null,
   "id": "d660ba0a",
   "metadata": {},
   "outputs": [],
   "source": []
  }
 ],
 "metadata": {
  "kernelspec": {
   "display_name": "Python 3 (ipykernel)",
   "language": "python",
   "name": "python3"
  },
  "language_info": {
   "codemirror_mode": {
    "name": "ipython",
    "version": 3
   },
   "file_extension": ".py",
   "mimetype": "text/x-python",
   "name": "python",
   "nbconvert_exporter": "python",
   "pygments_lexer": "ipython3",
   "version": "3.9.7"
  }
 },
 "nbformat": 4,
 "nbformat_minor": 5
}
